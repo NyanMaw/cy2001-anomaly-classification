{
 "cells": [
  {
   "cell_type": "markdown",
   "metadata": {},
   "source": [
    "# LSTM Implementation\n",
    "In this notebook, we implement the LSTM model on the extracted features."
   ]
  },
  {
   "cell_type": "code",
   "execution_count": 1,
   "metadata": {},
   "outputs": [],
   "source": [
    "import pandas as pd\n",
    "import numpy as np\n",
    "from sklearn.preprocessing import MinMaxScaler\n",
    "from sklearn.model_selection import train_test_split\n",
    "from tensorflow.keras.models import Sequential\n",
    "from tensorflow.keras.layers import LSTM, Dense\n",
    "from tensorflow.keras.optimizers import Adam\n"
   ]
  },
  {
   "cell_type": "code",
   "execution_count": 2,
   "metadata": {},
   "outputs": [
    {
     "name": "stdout",
     "output_type": "stream",
     "text": [
      "WARNING:tensorflow:Layer lstm will not use cuDNN kernels since it doesn't meet the criteria. It will use a generic GPU kernel as fallback when running on GPU.\n",
      "Epoch 1/10\n",
      "2250/2250 [==============================] - 19s 6ms/step - loss: 0.2485 - accuracy: 0.8724 - val_loss: 0.1935 - val_accuracy: 0.8974\n",
      "Epoch 2/10\n",
      "2250/2250 [==============================] - 13s 6ms/step - loss: 0.1717 - accuracy: 0.9176 - val_loss: 0.1604 - val_accuracy: 0.9189\n",
      "Epoch 3/10\n",
      "2250/2250 [==============================] - 13s 6ms/step - loss: 0.1517 - accuracy: 0.9252 - val_loss: 0.1438 - val_accuracy: 0.9304\n",
      "Epoch 4/10\n",
      "2250/2250 [==============================] - 14s 6ms/step - loss: 0.1436 - accuracy: 0.9271 - val_loss: 0.1342 - val_accuracy: 0.9360\n",
      "Epoch 5/10\n",
      "2250/2250 [==============================] - 14s 6ms/step - loss: 0.1369 - accuracy: 0.9302 - val_loss: 0.1313 - val_accuracy: 0.9371\n",
      "Epoch 6/10\n",
      "2250/2250 [==============================] - 14s 6ms/step - loss: 0.1331 - accuracy: 0.9337 - val_loss: 0.1603 - val_accuracy: 0.9069\n",
      "Epoch 7/10\n",
      "2250/2250 [==============================] - 14s 6ms/step - loss: 0.1324 - accuracy: 0.9344 - val_loss: 0.1267 - val_accuracy: 0.9415\n",
      "Epoch 8/10\n",
      "2250/2250 [==============================] - 14s 6ms/step - loss: 0.1304 - accuracy: 0.9355 - val_loss: 0.1361 - val_accuracy: 0.9274\n",
      "Epoch 9/10\n",
      "2250/2250 [==============================] - 14s 6ms/step - loss: 0.1292 - accuracy: 0.9367 - val_loss: 0.1594 - val_accuracy: 0.9230\n",
      "Epoch 10/10\n",
      "2250/2250 [==============================] - 14s 6ms/step - loss: 0.1281 - accuracy: 0.9373 - val_loss: 0.1211 - val_accuracy: 0.9459\n",
      "625/625 [==============================] - 2s 3ms/step - loss: 0.1241 - accuracy: 0.9419\n",
      "Test Loss: 0.124, Test Accuracy: 0.942\n"
     ]
    }
   ],
   "source": [
    "# Load the data\n",
    "data = pd.read_csv('combined_feature_vectors.csv')\n",
    "\n",
    "# Normalize the feature columns\n",
    "scaler = MinMaxScaler()\n",
    "data_scaled = scaler.fit_transform(data.drop('Label', axis=1))\n",
    "\n",
    "# Reshape the data to fit the LSTM input requirements: [samples, time steps, features]\n",
    "X = data_scaled.reshape(data_scaled.shape[0], 1, data_scaled.shape[1])\n",
    "y = data['Label'].values\n",
    "\n",
    "# Split the data into training and testing sets\n",
    "X_train, X_test, y_train, y_test = train_test_split(X, y, test_size=0.2, random_state=42)\n",
    "\n",
    "# Define the LSTM model\n",
    "model = Sequential([\n",
    "    LSTM(50, activation='relu', input_shape=(1, X_train.shape[2])),\n",
    "    Dense(1, activation='sigmoid')\n",
    "])\n",
    "\n",
    "# Compile the model\n",
    "model.compile(optimizer=Adam(learning_rate=0.01), loss='binary_crossentropy', metrics=['accuracy'])\n",
    "\n",
    "# Train the model\n",
    "model.fit(X_train, y_train, epochs=10, batch_size=32, validation_split=0.1)\n",
    "\n",
    "# Evaluate the model\n",
    "loss, accuracy = model.evaluate(X_test, y_test)\n",
    "print(f'Test Loss: {loss:.3f}, Test Accuracy: {accuracy:.3f}')\n"
   ]
  },
  {
   "cell_type": "code",
   "execution_count": null,
   "metadata": {},
   "outputs": [],
   "source": []
  }
 ],
 "metadata": {
  "kernelspec": {
   "display_name": "base",
   "language": "python",
   "name": "python3"
  },
  "language_info": {
   "codemirror_mode": {
    "name": "ipython",
    "version": 3
   },
   "file_extension": ".py",
   "mimetype": "text/x-python",
   "name": "python",
   "nbconvert_exporter": "python",
   "pygments_lexer": "ipython3",
   "version": "3.10.9"
  }
 },
 "nbformat": 4,
 "nbformat_minor": 2
}
